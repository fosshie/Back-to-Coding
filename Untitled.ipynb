{
 "cells": [
  {
   "cell_type": "code",
   "execution_count": 29,
   "id": "d9e1a3fe",
   "metadata": {},
   "outputs": [],
   "source": [
    "def delete_starting_evens(my_list):\n",
    "  for element in my_list:\n",
    "    if element % 2 == 0:\n",
    "      my_list.pop(0)\n",
    "    print(my_list)\n"
   ]
  },
  {
   "cell_type": "code",
   "execution_count": 30,
   "id": "a19030f7",
   "metadata": {},
   "outputs": [
    {
     "name": "stdout",
     "output_type": "stream",
     "text": [
      "[8, 10, 11, 12, 15]\n",
      "[10, 11, 12, 15]\n",
      "[11, 12, 15]\n",
      "None\n"
     ]
    }
   ],
   "source": [
    "print(delete_starting_evens([4, 8, 10, 11, 12, 15]))"
   ]
  },
  {
   "cell_type": "code",
   "execution_count": 4,
   "id": "3f08d90d",
   "metadata": {},
   "outputs": [
    {
     "ename": "SyntaxError",
     "evalue": "incomplete input (1490556008.py, line 4)",
     "output_type": "error",
     "traceback": [
      "\u001b[0;36m  Cell \u001b[0;32mIn[4], line 4\u001b[0;36m\u001b[0m\n\u001b[0;31m    \u001b[0m\n\u001b[0m    ^\u001b[0m\n\u001b[0;31mSyntaxError\u001b[0m\u001b[0;31m:\u001b[0m incomplete input\n"
     ]
    }
   ],
   "source": [
    "N = 3\n",
    "C = \"ABA\"\n"
   ]
  },
  {
   "cell_type": "code",
   "execution_count": 6,
   "id": "6a27acbc",
   "metadata": {},
   "outputs": [],
   "source": [
    "def wrong(N: int, C: str):\n",
    "    varA = 'A'\n",
    "    varB = 'B'\n",
    "    while i = N:\n",
    "        for j in C:\n",
    "            if j == varA:\n",
    "                j = varB\n",
    "            elif j == varB:\n",
    "                j = varA\n",
    "    return C"
   ]
  },
  {
   "cell_type": "code",
   "execution_count": 7,
   "id": "7fc26f0e",
   "metadata": {},
   "outputs": [
    {
     "ename": "TypeError",
     "evalue": "'<=' not supported between instances of 'str' and 'int'",
     "output_type": "error",
     "traceback": [
      "\u001b[0;31m---------------------------------------------------------------------------\u001b[0m",
      "\u001b[0;31mTypeError\u001b[0m                                 Traceback (most recent call last)",
      "Cell \u001b[0;32mIn[7], line 1\u001b[0m\n\u001b[0;32m----> 1\u001b[0m \u001b[43mwrong\u001b[49m\u001b[43m(\u001b[49m\u001b[38;5;241;43m3\u001b[39;49m\u001b[43m,\u001b[49m\u001b[43m \u001b[49m\u001b[38;5;124;43m'\u001b[39;49m\u001b[38;5;124;43mABA\u001b[39;49m\u001b[38;5;124;43m'\u001b[39;49m\u001b[43m)\u001b[49m\n",
      "Cell \u001b[0;32mIn[6], line 4\u001b[0m, in \u001b[0;36mwrong\u001b[0;34m(N, C)\u001b[0m\n\u001b[1;32m      2\u001b[0m varA \u001b[38;5;241m=\u001b[39m \u001b[38;5;124m'\u001b[39m\u001b[38;5;124mA\u001b[39m\u001b[38;5;124m'\u001b[39m\n\u001b[1;32m      3\u001b[0m varB \u001b[38;5;241m=\u001b[39m \u001b[38;5;124m'\u001b[39m\u001b[38;5;124mB\u001b[39m\u001b[38;5;124m'\u001b[39m\n\u001b[0;32m----> 4\u001b[0m \u001b[38;5;28;01mwhile\u001b[39;00m \u001b[43mi\u001b[49m\u001b[43m \u001b[49m\u001b[38;5;241;43m<\u001b[39;49m\u001b[38;5;241;43m=\u001b[39;49m\u001b[43m \u001b[49m\u001b[43mN\u001b[49m:\n\u001b[1;32m      5\u001b[0m     \u001b[38;5;28;01mfor\u001b[39;00m j \u001b[38;5;129;01min\u001b[39;00m C:\n\u001b[1;32m      6\u001b[0m         \u001b[38;5;28;01mif\u001b[39;00m j \u001b[38;5;241m==\u001b[39m varA:\n",
      "\u001b[0;31mTypeError\u001b[0m: '<=' not supported between instances of 'str' and 'int'"
     ]
    }
   ],
   "source": [
    "wrong(3, 'ABA')"
   ]
  },
  {
   "cell_type": "code",
   "execution_count": null,
   "id": "3f2416c8",
   "metadata": {},
   "outputs": [],
   "source": []
  }
 ],
 "metadata": {
  "kernelspec": {
   "display_name": "Python 3 (ipykernel)",
   "language": "python",
   "name": "python3"
  },
  "language_info": {
   "codemirror_mode": {
    "name": "ipython",
    "version": 3
   },
   "file_extension": ".py",
   "mimetype": "text/x-python",
   "name": "python",
   "nbconvert_exporter": "python",
   "pygments_lexer": "ipython3",
   "version": "3.10.9"
  }
 },
 "nbformat": 4,
 "nbformat_minor": 5
}
